{
 "cells": [
  {
   "cell_type": "code",
   "execution_count": 14,
   "id": "d850b69b",
   "metadata": {},
   "outputs": [],
   "source": [
    "# cell 1: imports and load\n",
    "import pandas as pd\n",
    "import numpy as np\n",
    "import matplotlib.pyplot as plt\n",
    "import seaborn as sns\n",
    "from statsmodels.tsa.stattools import acf, pacf\n",
    "from statsmodels.tsa.seasonal import STL, seasonal_decompose\n",
    "from scipy import stats\n",
    "from statsmodels.graphics.tsaplots import plot_acf, plot_pacf\n"
   ]
  },
  {
   "cell_type": "code",
   "execution_count": 15,
   "id": "c60d028e",
   "metadata": {},
   "outputs": [],
   "source": [
    "df = pd.read_csv(\"air_quality_cleaned.csv\")"
   ]
  },
  {
   "cell_type": "code",
   "execution_count": 16,
   "id": "0bd98d62",
   "metadata": {},
   "outputs": [
    {
     "data": {
      "text/plain": [
       "Index(['datetime', 'Date', 'Time', 'CO(GT)', 'PT08.S1(CO)', 'C6H6(GT)',\n",
       "       'NOx(GT)', 'PT08.S3(NOx)', 'NO2(GT)', 'PT08.S4(NO2)', 'PT08.S5(O3)',\n",
       "       'T', 'RH', 'AH', 'hour', 'dayofweek', 'CO(GT)_lag_1', 'CO(GT)_lag_3',\n",
       "       'CO(GT)_lag_6', 'CO(GT)_lag_12', 'CO(GT)_lag_24', 'CO_roll_std',\n",
       "       'CO_roll_max', 'datetime.1', 'month', 'hour_sin', 'hour_cos',\n",
       "       'CO(GT)_rollmean_3', 'CO(GT)_rollstd_3', 'CO(GT)_rollmean_24',\n",
       "       'CO(GT)_rollstd_24'],\n",
       "      dtype='object')"
      ]
     },
     "execution_count": 16,
     "metadata": {},
     "output_type": "execute_result"
    }
   ],
   "source": [
    "df.columns"
   ]
  },
  {
   "cell_type": "code",
   "execution_count": 17,
   "id": "ad464227",
   "metadata": {},
   "outputs": [
    {
     "name": "stdout",
     "output_type": "stream",
     "text": [
      "Remaining columns: ['datetime', 'Date', 'Time', 'CO(GT)', 'PT08.S1(CO)', 'C6H6(GT)', 'NOx(GT)', 'PT08.S3(NOx)', 'NO2(GT)', 'PT08.S4(NO2)', 'PT08.S5(O3)', 'T', 'RH', 'AH', 'hour', 'dayofweek', 'month', 'hour_sin', 'hour_cos']\n"
     ]
    }
   ],
   "source": [
    "# List of target-based lag/rolling columns to remove\n",
    "lag_roll_cols = [\n",
    "    'CO(GT)_lag_1', 'CO(GT)_lag_3', 'CO(GT)_lag_6', 'CO(GT)_lag_12', 'CO(GT)_lag_24',\n",
    "    'CO_roll_std', 'CO_roll_max',\n",
    "    'CO(GT)_rollmean_3', 'CO(GT)_rollstd_3', 'CO(GT)_rollmean_24', 'CO(GT)_rollstd_24','datetime.1' \n",
    "]\n",
    "\n",
    "# Drop them if they exist in the DataFrame\n",
    "df = df.drop(columns=[col for col in lag_roll_cols if col in df.columns])\n",
    "\n",
    "print(\"Remaining columns:\", df.columns.tolist())"
   ]
  },
  {
   "cell_type": "code",
   "execution_count": 18,
   "id": "ffcfc173",
   "metadata": {},
   "outputs": [
    {
     "data": {
      "text/html": [
       "<div>\n",
       "<style scoped>\n",
       "    .dataframe tbody tr th:only-of-type {\n",
       "        vertical-align: middle;\n",
       "    }\n",
       "\n",
       "    .dataframe tbody tr th {\n",
       "        vertical-align: top;\n",
       "    }\n",
       "\n",
       "    .dataframe thead th {\n",
       "        text-align: right;\n",
       "    }\n",
       "</style>\n",
       "<table border=\"1\" class=\"dataframe\">\n",
       "  <thead>\n",
       "    <tr style=\"text-align: right;\">\n",
       "      <th></th>\n",
       "      <th>datetime</th>\n",
       "      <th>Date</th>\n",
       "      <th>Time</th>\n",
       "      <th>CO(GT)</th>\n",
       "      <th>PT08.S1(CO)</th>\n",
       "      <th>C6H6(GT)</th>\n",
       "      <th>NOx(GT)</th>\n",
       "      <th>PT08.S3(NOx)</th>\n",
       "      <th>NO2(GT)</th>\n",
       "      <th>PT08.S4(NO2)</th>\n",
       "      <th>PT08.S5(O3)</th>\n",
       "      <th>T</th>\n",
       "      <th>RH</th>\n",
       "      <th>AH</th>\n",
       "      <th>hour</th>\n",
       "      <th>dayofweek</th>\n",
       "      <th>month</th>\n",
       "      <th>hour_sin</th>\n",
       "      <th>hour_cos</th>\n",
       "    </tr>\n",
       "  </thead>\n",
       "  <tbody>\n",
       "    <tr>\n",
       "      <th>0</th>\n",
       "      <td>2004-03-10 18:00:00</td>\n",
       "      <td>10/03/2004</td>\n",
       "      <td>18.00.00</td>\n",
       "      <td>2.6</td>\n",
       "      <td>1360.0</td>\n",
       "      <td>11.9</td>\n",
       "      <td>166.0</td>\n",
       "      <td>1056.0</td>\n",
       "      <td>113.0</td>\n",
       "      <td>1692.0</td>\n",
       "      <td>1268.0</td>\n",
       "      <td>13.6</td>\n",
       "      <td>48.9</td>\n",
       "      <td>0.7578</td>\n",
       "      <td>18</td>\n",
       "      <td>2</td>\n",
       "      <td>3</td>\n",
       "      <td>-1.000000</td>\n",
       "      <td>-1.836970e-16</td>\n",
       "    </tr>\n",
       "    <tr>\n",
       "      <th>1</th>\n",
       "      <td>2004-03-10 19:00:00</td>\n",
       "      <td>10/03/2004</td>\n",
       "      <td>19.00.00</td>\n",
       "      <td>2.0</td>\n",
       "      <td>1292.0</td>\n",
       "      <td>9.4</td>\n",
       "      <td>103.0</td>\n",
       "      <td>1174.0</td>\n",
       "      <td>92.0</td>\n",
       "      <td>1559.0</td>\n",
       "      <td>972.0</td>\n",
       "      <td>13.3</td>\n",
       "      <td>47.7</td>\n",
       "      <td>0.7255</td>\n",
       "      <td>19</td>\n",
       "      <td>2</td>\n",
       "      <td>3</td>\n",
       "      <td>-0.965926</td>\n",
       "      <td>2.588190e-01</td>\n",
       "    </tr>\n",
       "    <tr>\n",
       "      <th>2</th>\n",
       "      <td>2004-03-10 20:00:00</td>\n",
       "      <td>10/03/2004</td>\n",
       "      <td>20.00.00</td>\n",
       "      <td>2.2</td>\n",
       "      <td>1402.0</td>\n",
       "      <td>9.0</td>\n",
       "      <td>131.0</td>\n",
       "      <td>1140.0</td>\n",
       "      <td>114.0</td>\n",
       "      <td>1555.0</td>\n",
       "      <td>1074.0</td>\n",
       "      <td>11.9</td>\n",
       "      <td>54.0</td>\n",
       "      <td>0.7502</td>\n",
       "      <td>20</td>\n",
       "      <td>2</td>\n",
       "      <td>3</td>\n",
       "      <td>-0.866025</td>\n",
       "      <td>5.000000e-01</td>\n",
       "    </tr>\n",
       "    <tr>\n",
       "      <th>3</th>\n",
       "      <td>2004-03-10 21:00:00</td>\n",
       "      <td>10/03/2004</td>\n",
       "      <td>21.00.00</td>\n",
       "      <td>2.2</td>\n",
       "      <td>1376.0</td>\n",
       "      <td>9.2</td>\n",
       "      <td>172.0</td>\n",
       "      <td>1092.0</td>\n",
       "      <td>122.0</td>\n",
       "      <td>1584.0</td>\n",
       "      <td>1203.0</td>\n",
       "      <td>11.0</td>\n",
       "      <td>60.0</td>\n",
       "      <td>0.7867</td>\n",
       "      <td>21</td>\n",
       "      <td>2</td>\n",
       "      <td>3</td>\n",
       "      <td>-0.707107</td>\n",
       "      <td>7.071068e-01</td>\n",
       "    </tr>\n",
       "    <tr>\n",
       "      <th>4</th>\n",
       "      <td>2004-03-10 22:00:00</td>\n",
       "      <td>10/03/2004</td>\n",
       "      <td>22.00.00</td>\n",
       "      <td>1.6</td>\n",
       "      <td>1272.0</td>\n",
       "      <td>6.5</td>\n",
       "      <td>131.0</td>\n",
       "      <td>1205.0</td>\n",
       "      <td>116.0</td>\n",
       "      <td>1490.0</td>\n",
       "      <td>1110.0</td>\n",
       "      <td>11.2</td>\n",
       "      <td>59.6</td>\n",
       "      <td>0.7888</td>\n",
       "      <td>22</td>\n",
       "      <td>2</td>\n",
       "      <td>3</td>\n",
       "      <td>-0.500000</td>\n",
       "      <td>8.660254e-01</td>\n",
       "    </tr>\n",
       "  </tbody>\n",
       "</table>\n",
       "</div>"
      ],
      "text/plain": [
       "              datetime        Date      Time  CO(GT)  PT08.S1(CO)  C6H6(GT)  \\\n",
       "0  2004-03-10 18:00:00  10/03/2004  18.00.00     2.6       1360.0      11.9   \n",
       "1  2004-03-10 19:00:00  10/03/2004  19.00.00     2.0       1292.0       9.4   \n",
       "2  2004-03-10 20:00:00  10/03/2004  20.00.00     2.2       1402.0       9.0   \n",
       "3  2004-03-10 21:00:00  10/03/2004  21.00.00     2.2       1376.0       9.2   \n",
       "4  2004-03-10 22:00:00  10/03/2004  22.00.00     1.6       1272.0       6.5   \n",
       "\n",
       "   NOx(GT)  PT08.S3(NOx)  NO2(GT)  PT08.S4(NO2)  PT08.S5(O3)     T    RH  \\\n",
       "0    166.0        1056.0    113.0        1692.0       1268.0  13.6  48.9   \n",
       "1    103.0        1174.0     92.0        1559.0        972.0  13.3  47.7   \n",
       "2    131.0        1140.0    114.0        1555.0       1074.0  11.9  54.0   \n",
       "3    172.0        1092.0    122.0        1584.0       1203.0  11.0  60.0   \n",
       "4    131.0        1205.0    116.0        1490.0       1110.0  11.2  59.6   \n",
       "\n",
       "       AH  hour  dayofweek  month  hour_sin      hour_cos  \n",
       "0  0.7578    18          2      3 -1.000000 -1.836970e-16  \n",
       "1  0.7255    19          2      3 -0.965926  2.588190e-01  \n",
       "2  0.7502    20          2      3 -0.866025  5.000000e-01  \n",
       "3  0.7867    21          2      3 -0.707107  7.071068e-01  \n",
       "4  0.7888    22          2      3 -0.500000  8.660254e-01  "
      ]
     },
     "execution_count": 18,
     "metadata": {},
     "output_type": "execute_result"
    }
   ],
   "source": [
    "df.head(5)"
   ]
  },
  {
   "cell_type": "code",
   "execution_count": 19,
   "id": "6ed56c21",
   "metadata": {},
   "outputs": [
    {
     "data": {
      "text/plain": [
       "(9357, 19)"
      ]
     },
     "execution_count": 19,
     "metadata": {},
     "output_type": "execute_result"
    }
   ],
   "source": [
    "df.shape"
   ]
  },
  {
   "cell_type": "code",
   "execution_count": 20,
   "id": "1b72d821",
   "metadata": {},
   "outputs": [
    {
     "name": "stdout",
     "output_type": "stream",
     "text": [
      "\n",
      "Split complete!\n",
      "'training_data.csv' created with 8421 rows (90%).\n",
      "'holdout_data.csv' created with 936 rows (10%).\n"
     ]
    }
   ],
   "source": [
    "# This determines the index at the 90% mark of the dataset.\n",
    "split_point = int(len(df) * 0.9)\n",
    "\n",
    "# The training/testing set is the first 90% of the data\n",
    "training_df = df.iloc[:split_point]\n",
    "\n",
    "# The holdout set is the final 10% of the data\n",
    "holdout_df = df.iloc[split_point:]\n",
    "\n",
    "# The index=False argument prevents pandas from writing the DataFrame index as a column.\n",
    "training_df.to_csv('sarima_training_data.csv', index=True)\n",
    "holdout_df.to_csv('sarima_holdout_data.csv', index=True)\n",
    "\n",
    "print(\"\\nSplit complete!\")\n",
    "print(f\"'{'training_data.csv'}' created with {len(training_df)} rows (90%).\")\n",
    "print(f\"'{'holdout_data.csv'}' created with {len(holdout_df)} rows (10%).\")"
   ]
  }
 ],
 "metadata": {
  "kernelspec": {
   "display_name": "base",
   "language": "python",
   "name": "python3"
  },
  "language_info": {
   "codemirror_mode": {
    "name": "ipython",
    "version": 3
   },
   "file_extension": ".py",
   "mimetype": "text/x-python",
   "name": "python",
   "nbconvert_exporter": "python",
   "pygments_lexer": "ipython3",
   "version": "3.12.7"
  }
 },
 "nbformat": 4,
 "nbformat_minor": 5
}
